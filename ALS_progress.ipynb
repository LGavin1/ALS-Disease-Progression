{
  "cells": [
    {
      "cell_type": "markdown",
      "metadata": {
        "id": "view-in-github",
        "colab_type": "text"
      },
      "source": [
        "<a href=\"https://colab.research.google.com/github/LGavin1/ALS-Disease-Progression/blob/main/ALS_progress.ipynb\" target=\"_parent\"><img src=\"https://colab.research.google.com/assets/colab-badge.svg\" alt=\"Open In Colab\"/></a>"
      ]
    },
    {
      "cell_type": "code",
      "execution_count": null,
      "metadata": {
        "id": "ZnO2k2XBKXm8"
      },
      "outputs": [],
      "source": [
        "import pandas as pd\n",
        "import numpy as np\n",
        "from sklearn.ensemble import RandomForestClassifier\n",
        "from sklearn.ensemble import VotingClassifier\n",
        "from sklearn.linear_model import LogisticRegression\n",
        "from sklearn.svm import SVC\n",
        "from sklearn.model_selection import train_test_split\n",
        "from sklearn.decomposition import PCA\n",
        "from sklearn.cluster import KMeans\n",
        "import pylab as pl\n",
        "from sklearn.preprocessing import MinMaxScaler\n",
        "from sklearn.ensemble import RandomForestRegressor\n",
        "from sklearn.model_selection import RandomizedSearchCV\n",
        "from sklearn.model_selection import GridSearchCV\n",
        "from sklearn.metrics import mean_squared_error\n",
        "from sklearn.feature_selection import SelectFromModel\n",
        "from sklearn.preprocessing import PolynomialFeatures\n",
        "from sklearn.pipeline import Pipeline\n",
        "from sklearn.linear_model import LinearRegression\n",
        "import xgboost\n",
        "from xgboost.sklearn import XGBRegressor\n",
        "\n",
        "from plotnine import *\n",
        "%matplotlib inline\n",
        "import matplotlib.pyplot as plt"
      ]
    },
    {
      "cell_type": "code",
      "execution_count": null,
      "metadata": {
        "colab": {
          "base_uri": "https://localhost:8080/"
        },
        "id": "8qZrM3jsKXnA",
        "outputId": "2153e4a5-4a8d-4c75-8e0c-22683f6572e4"
      },
      "outputs": [
        {
          "output_type": "stream",
          "name": "stdout",
          "text": [
            "Requirement already satisfied: xgboost==0.7.post4 in /usr/local/lib/python3.10/dist-packages (0.7.post4)\n",
            "Requirement already satisfied: numpy in /usr/local/lib/python3.10/dist-packages (from xgboost==0.7.post4) (1.25.2)\n",
            "Requirement already satisfied: scipy in /usr/local/lib/python3.10/dist-packages (from xgboost==0.7.post4) (1.11.4)\n"
          ]
        }
      ],
      "source": [
        "import sys\n",
        "!pip3 install xgboost==0.7.post4"
      ]
    },
    {
      "cell_type": "markdown",
      "metadata": {
        "id": "5UkXBCzdKXnC"
      },
      "source": [
        "# Load R-preprocessed ALS data"
      ]
    },
    {
      "cell_type": "code",
      "execution_count": null,
      "metadata": {
        "id": "co4aVUUDKXnF"
      },
      "outputs": [],
      "source": [
        "als_final = pd.read_csv('ALS_FINAL.csv', index_col=0)"
      ]
    },
    {
      "cell_type": "markdown",
      "metadata": {
        "id": "U0pntdXoKXnF"
      },
      "source": [
        "# Split train and test dataset"
      ]
    },
    {
      "cell_type": "code",
      "execution_count": null,
      "metadata": {
        "colab": {
          "base_uri": "https://localhost:8080/"
        },
        "id": "mWpXLxM8KXnG",
        "outputId": "1f2a79c3-7532-49d6-9167-bf449c334124"
      },
      "outputs": [
        {
          "output_type": "execute_result",
          "data": {
            "text/plain": [
              "Index(['subject_id', 'Q1_Speech', 'Q2_Salivation', 'Q3_Swallowing',\n",
              "       'Q4_Handwriting', 'Q5a_Cutting_without_Gastrostomy',\n",
              "       'Q6_Dressing_and_Hygiene', 'Q7_Turning_in_Bed', 'Q8_Walking',\n",
              "       'Q9_Climbing_Stairs', 'Q10_Respiratory', 'ALSFRS_Delta', 'ALSFRS_Total',\n",
              "       'ALSFRS_Slope', 'famhis', 'Age', 'Ethnicity', 'Race_Caucasian', 'Sex',\n",
              "       'Study_Arm', 'Onset_Delta', 'Bulbar_Onset', 'Limb_Bulbar_Onset',\n",
              "       'Limb_Onset', 'Spine_Onset', 'Other_Onset',\n",
              "       'FVC_Subject_Liters_Trial_1', 'Forced_Vital_Capacity_Delta',\n",
              "       'Blood_Pressure_Diastolic', 'Blood_Pressure_Systolic', 'Pulse',\n",
              "       'Respiratory_Rate', 'Temperature', 'Weight', 'Vital_Signs_Delta', 'AEC',\n",
              "       'ALT', 'AST', 'Blood.Urea.Nitrogen..BUN.', 'Chloride', 'Creatinine',\n",
              "       'Glucose', 'Hematocrit', 'Hemoglobin', 'Platelets', 'Potassium', 'RBC',\n",
              "       'Sodium', 'WBC'],\n",
              "      dtype='object')"
            ]
          },
          "metadata": {},
          "execution_count": 4
        }
      ],
      "source": [
        "als_final.columns"
      ]
    },
    {
      "cell_type": "code",
      "execution_count": null,
      "metadata": {
        "colab": {
          "base_uri": "https://localhost:8080/"
        },
        "id": "HMG4ZQ6fKXnH",
        "outputId": "533e7195-0aee-4057-832e-208c14debe4b"
      },
      "outputs": [
        {
          "output_type": "execute_result",
          "data": {
            "text/plain": [
              "-0.5"
            ]
          },
          "metadata": {},
          "execution_count": 5
        }
      ],
      "source": [
        "als_final['ALSFRS_Slope'].min()"
      ]
    },
    {
      "cell_type": "markdown",
      "metadata": {
        "id": "z4iL1V3UKXnI"
      },
      "source": [
        "### Keep als_12 untouched until making final prediction"
      ]
    },
    {
      "cell_type": "code",
      "execution_count": null,
      "metadata": {
        "id": "yUgS38hgKXnI"
      },
      "outputs": [],
      "source": [
        "als_3 = als_final[(als_final['ALSFRS_Delta'] >= 0) & (als_final['ALSFRS_Delta'] <= 90)]\n",
        "als_12 = als_final[(als_final['ALSFRS_Delta'] > 90) & (als_final['ALSFRS_Delta'] <= 366)]"
      ]
    },
    {
      "cell_type": "code",
      "execution_count": null,
      "metadata": {
        "colab": {
          "base_uri": "https://localhost:8080/"
        },
        "id": "eLv3uiIwKXnJ",
        "outputId": "c18b5ddd-f1e6-485c-d468-e2d74d05cf36"
      },
      "outputs": [
        {
          "output_type": "execute_result",
          "data": {
            "text/plain": [
              "(633, 49)"
            ]
          },
          "metadata": {},
          "execution_count": 7
        }
      ],
      "source": [
        "als_3.shape"
      ]
    },
    {
      "cell_type": "code",
      "execution_count": null,
      "metadata": {
        "colab": {
          "base_uri": "https://localhost:8080/"
        },
        "id": "4JMBjSDgKXnK",
        "outputId": "60d2fd31-8ba8-4b0d-c93f-d2df6225ce8a"
      },
      "outputs": [
        {
          "output_type": "execute_result",
          "data": {
            "text/plain": [
              "(3421, 49)"
            ]
          },
          "metadata": {},
          "execution_count": 8
        }
      ],
      "source": [
        "als_12.shape"
      ]
    },
    {
      "cell_type": "code",
      "execution_count": null,
      "metadata": {
        "id": "8emVtWryKXnL"
      },
      "outputs": [],
      "source": [
        "X = als_3.drop(['subject_id', 'ALSFRS_Slope'],axis=1)\n",
        "y = als_3['ALSFRS_Slope']"
      ]
    },
    {
      "cell_type": "code",
      "execution_count": null,
      "metadata": {
        "colab": {
          "base_uri": "https://localhost:8080/"
        },
        "id": "M-vCv9OLKXnL",
        "outputId": "577fc1b9-19e6-44af-fa73-2a0c13b59a66"
      },
      "outputs": [
        {
          "output_type": "execute_result",
          "data": {
            "text/plain": [
              "(633, 47)"
            ]
          },
          "metadata": {},
          "execution_count": 10
        }
      ],
      "source": [
        "X.shape"
      ]
    },
    {
      "cell_type": "code",
      "execution_count": null,
      "metadata": {
        "id": "Iiet_aDVKXnM"
      },
      "outputs": [],
      "source": [
        "X_train, X_val, y_train, y_val = train_test_split(X, y, test_size=0.1, random_state=42)"
      ]
    },
    {
      "cell_type": "code",
      "execution_count": null,
      "metadata": {
        "id": "G7f5H6XfKXnM"
      },
      "outputs": [],
      "source": [
        "X_als12 =als_12.drop(['subject_id', 'ALSFRS_Slope'], axis=1)\n",
        "y_als12 = als_12['ALSFRS_Slope']"
      ]
    },
    {
      "cell_type": "markdown",
      "metadata": {
        "id": "Hp4U9Mv9KXnN"
      },
      "source": [
        "# Scale and dimensionality reduction"
      ]
    },
    {
      "cell_type": "code",
      "execution_count": null,
      "metadata": {
        "id": "1qD_6Ck6KXnN"
      },
      "outputs": [],
      "source": [
        "# scale\n",
        "scaler = MinMaxScaler()\n",
        "X_train_scaled = scaler.fit_transform(X_train)\n",
        "X_val_scaled = scaler.transform(X_val)"
      ]
    },
    {
      "cell_type": "code",
      "execution_count": null,
      "metadata": {
        "colab": {
          "base_uri": "https://localhost:8080/"
        },
        "id": "YXROwOipKXnN",
        "outputId": "b3148aae-6edc-472a-9283-c658b1142cdb"
      },
      "outputs": [
        {
          "output_type": "execute_result",
          "data": {
            "text/plain": [
              "array([[7.50000000e-01, 7.50000000e-01, 1.00000000e+00, ...,\n",
              "        2.71061730e-06, 4.96478873e-01, 2.42622951e-01],\n",
              "       [0.00000000e+00, 5.00000000e-01, 2.50000000e-01, ...,\n",
              "        2.29425288e-06, 4.15978630e-01, 2.89429056e-01],\n",
              "       [7.50000000e-01, 1.00000000e+00, 5.00000000e-01, ...,\n",
              "        2.36298943e-06, 3.92018779e-01, 5.73770492e-01],\n",
              "       ...,\n",
              "       [2.50000000e-01, 5.00000000e-01, 5.00000000e-01, ...,\n",
              "        2.40183826e-06, 4.27277953e-01, 2.24610237e-01],\n",
              "       [5.00000000e-01, 5.00000000e-01, 5.00000000e-01, ...,\n",
              "        3.01864199e-06, 4.13639733e-01, 3.83904620e-01],\n",
              "       [1.00000000e+00, 1.00000000e+00, 1.00000000e+00, ...,\n",
              "        2.54428396e-06, 4.92957747e-01, 2.22950820e-01]])"
            ]
          },
          "metadata": {},
          "execution_count": 14
        }
      ],
      "source": [
        "X_train_scaled"
      ]
    },
    {
      "cell_type": "code",
      "execution_count": null,
      "metadata": {
        "id": "pBiUV9b7KXnO"
      },
      "outputs": [],
      "source": [
        "pca = PCA(n_components=0.95)\n",
        "X_train_reduced = pca.fit_transform(X_train_scaled)"
      ]
    },
    {
      "cell_type": "code",
      "execution_count": null,
      "metadata": {
        "id": "KgKk-4tfKXnO"
      },
      "outputs": [],
      "source": [
        "X_val_reduced = pca.transform(X_val_scaled)"
      ]
    },
    {
      "cell_type": "code",
      "execution_count": null,
      "metadata": {
        "colab": {
          "base_uri": "https://localhost:8080/"
        },
        "id": "icOjyOIuKXnO",
        "outputId": "a3d3c175-dac5-4cb2-b0f2-92573df09fe8"
      },
      "outputs": [
        {
          "output_type": "execute_result",
          "data": {
            "text/plain": [
              "25"
            ]
          },
          "metadata": {},
          "execution_count": 17
        }
      ],
      "source": [
        "pca.n_components_"
      ]
    },
    {
      "cell_type": "code",
      "execution_count": null,
      "metadata": {
        "colab": {
          "base_uri": "https://localhost:8080/"
        },
        "id": "J7fojtwYKXnP",
        "outputId": "1d883514-566f-4acc-ba3b-58bfee840a7f"
      },
      "outputs": [
        {
          "output_type": "execute_result",
          "data": {
            "text/plain": [
              "(569, 25)"
            ]
          },
          "metadata": {},
          "execution_count": 18
        }
      ],
      "source": [
        "X_train_reduced.shape"
      ]
    },
    {
      "cell_type": "code",
      "execution_count": null,
      "metadata": {
        "colab": {
          "base_uri": "https://localhost:8080/"
        },
        "id": "ehyiM8W7KXnP",
        "outputId": "5552acd4-4209-42b1-bcd4-ed9e2b40c90d"
      },
      "outputs": [
        {
          "output_type": "execute_result",
          "data": {
            "text/plain": [
              "0.9544065720861014"
            ]
          },
          "metadata": {},
          "execution_count": 19
        }
      ],
      "source": [
        "np.sum(pca.explained_variance_ratio_)"
      ]
    },
    {
      "cell_type": "code",
      "execution_count": null,
      "metadata": {
        "colab": {
          "base_uri": "https://localhost:8080/",
          "height": 459
        },
        "id": "qVyHw2BcKXnQ",
        "outputId": "c9d8ae0f-98f7-4264-a4eb-c8e908477101"
      },
      "outputs": [
        {
          "output_type": "display_data",
          "data": {
            "text/plain": [
              "<Figure size 1200x600 with 1 Axes>"
            ],
            "image/png": "[encoded data removed]"
          },
          "metadata": {}
        }
      ],
      "source": [
        "plt.rcParams['figure.figsize'] = (12,6)\n",
        "fig, ax = plt.subplots()\n",
        "xi = np.arange(1,26,step=1)\n",
        "y = np.cumsum(pca.explained_variance_ratio_)\n",
        "plt.ylim(0.0,1.1)\n",
        "plt.plot(xi, y, marker='o', linestyle='--', color='b')\n",
        "plt.xlabel('Number of Components')\n",
        "plt.xticks(np.arange(0, 26, step=1)) #change from 0-based array index to 1-based human-readable label\n",
        "plt.ylabel('Cumulative variance (%)')\n",
        "plt.title('The number of components needed to explain variance')\n",
        "plt.axhline(y=0.95, color='r', linestyle='-')\n",
        "plt.text(0.5, 0.85, '95% cut-off threshold', color = 'red', fontsize=16)\n",
        "\n",
        "ax.grid(axis='x')\n",
        "plt.show()"
      ]
    },
    {
      "cell_type": "markdown",
      "metadata": {
        "id": "U-whPfIhKXnQ"
      },
      "source": [
        "# Train different models, predict, and evaluate"
      ]
    },
    {
      "cell_type": "markdown",
      "metadata": {
        "id": "WuDVh-JiKXnQ"
      },
      "source": [
        "## Random forest"
      ]
    },
    {
      "cell_type": "code",
      "execution_count": null,
      "metadata": {
        "colab": {
          "base_uri": "https://localhost:8080/"
        },
        "id": "xkf60Gn6KXnR",
        "outputId": "56081717-056e-41f4-c812-d62fb7dd0fd0"
      },
      "outputs": [
        {
          "output_type": "stream",
          "name": "stdout",
          "text": [
            "{'n_estimators': [200, 400, 600, 800, 1000, 1200, 1400, 1600, 1800, 2000], 'max_features': ['auto', 'log2'], 'max_depth': [10, 20, 30, 40, 50, 60, 70, 80, 90, 100, 110, None], 'min_samples_split': [2, 5, 10], 'min_samples_leaf': [1, 2, 4], 'bootstrap': [True, False]}\n"
          ]
        }
      ],
      "source": [
        "# Number of trees in random forest\n",
        "n_estimators = [int(x) for x in np.linspace(start = 200, stop = 2000, num = 10)]\n",
        "# Number of features to consider at every split\n",
        "max_features = ['auto', 'log2']\n",
        "# Maximum number of levels in tree\n",
        "max_depth = [int(x) for x in np.linspace(10, 110, num = 11)]\n",
        "max_depth.append(None)\n",
        "# Minimum number of samples required to split a node\n",
        "min_samples_split = [2, 5, 10]\n",
        "# Minimum number of samples required at each leaf node\n",
        "min_samples_leaf = [1, 2, 4]\n",
        "# Method of selecting samples for training each tree\n",
        "bootstrap = [True, False]\n",
        "\n",
        "random_grid = {'n_estimators': n_estimators,\n",
        "               'max_features': max_features,\n",
        "               'max_depth': max_depth,\n",
        "               'min_samples_split': min_samples_split,\n",
        "               'min_samples_leaf': min_samples_leaf,\n",
        "               'bootstrap': bootstrap}\n",
        "print(random_grid)"
      ]
    },
    {
      "cell_type": "code",
      "execution_count": null,
      "metadata": {
        "colab": {
          "base_uri": "https://localhost:8080/",
          "height": 133
        },
        "id": "2xFxKB8zKXnR",
        "outputId": "097268f2-f2a9-46df-cb68-3ef29511eb74"
      },
      "outputs": [
        {
          "output_type": "stream",
          "name": "stdout",
          "text": [
            "Fitting 3 folds for each of 100 candidates, totalling 300 fits\n"
          ]
        },
        {
          "output_type": "execute_result",
          "data": {
            "text/plain": [
              "RandomizedSearchCV(cv=3, estimator=RandomForestRegressor(), n_iter=100,\n",
              "                   n_jobs=-1,\n",
              "                   param_distributions={'bootstrap': [True, False],\n",
              "                                        'max_depth': [10, 20, 30, 40, 50, 60,\n",
              "                                                      70, 80, 90, 100, 110,\n",
              "                                                      None],\n",
              "                                        'max_features': ['auto', 'log2'],\n",
              "                                        'min_samples_leaf': [1, 2, 4],\n",
              "                                        'min_samples_split': [2, 5, 10],\n",
              "                                        'n_estimators': [200, 400, 600, 800,\n",
              "                                                         1000, 1200, 1400, 1600,\n",
              "                                                         1800, 2000]},\n",
              "                   random_state=42, verbose=2)"
            ],
            "text/html": [
              "<style>#sk-container-id-1 {color: black;background-color: white;}#sk-container-id-1 pre{padding: 0;}#sk-container-id-1 div.sk-toggleable {background-color: white;}#sk-container-id-1 label.sk-toggleable__label {cursor: pointer;display: block;width: 100%;margin-bottom: 0;padding: 0.3em;box-sizing: border-box;text-align: center;}#sk-container-id-1 label.sk-toggleable__label-arrow:before {content: \"▸\";float: left;margin-right: 0.25em;color: #696969;}#sk-container-id-1 label.sk-toggleable__label-arrow:hover:before {color: black;}#sk-container-id-1 div.sk-estimator:hover label.sk-toggleable__label-arrow:before {color: black;}#sk-container-id-1 div.sk-toggleable__content {max-height: 0;max-width: 0;overflow: hidden;text-align: left;background-color: #f0f8ff;}#sk-container-id-1 div.sk-toggleable__content pre {margin: 0.2em;color: black;border-radius: 0.25em;background-color: #f0f8ff;}#sk-container-id-1 input.sk-toggleable__control:checked~div.sk-toggleable__content {max-height: 200px;max-width: 100%;overflow: auto;}#sk-container-id-1 input.sk-toggleable__control:checked~label.sk-toggleable__label-arrow:before {content: \"▾\";}#sk-container-id-1 div.sk-estimator input.sk-toggleable__control:checked~label.sk-toggleable__label {background-color: #d4ebff;}#sk-container-id-1 div.sk-label input.sk-toggleable__control:checked~label.sk-toggleable__label {background-color: #d4ebff;}#sk-container-id-1 input.sk-hidden--visually {border: 0;clip: rect(1px 1px 1px 1px);clip: rect(1px, 1px, 1px, 1px);height: 1px;margin: -1px;overflow: hidden;padding: 0;position: absolute;width: 1px;}#sk-container-id-1 div.sk-estimator {font-family: monospace;background-color: #f0f8ff;border: 1px dotted black;border-radius: 0.25em;box-sizing: border-box;margin-bottom: 0.5em;}#sk-container-id-1 div.sk-estimator:hover {background-color: #d4ebff;}#sk-container-id-1 div.sk-parallel-item::after {content: \"\";width: 100%;border-bottom: 1px solid gray;flex-grow: 1;}#sk-container-id-1 div.sk-label:hover label.sk-toggleable__label {background-color: #d4ebff;}#sk-container-id-1 div.sk-serial::before {content: \"\";position: absolute;border-left: 1px solid gray;box-sizing: border-box;top: 0;bottom: 0;left: 50%;z-index: 0;}#sk-container-id-1 div.sk-serial {display: flex;flex-direction: column;align-items: center;background-color: white;padding-right: 0.2em;padding-left: 0.2em;position: relative;}#sk-container-id-1 div.sk-item {position: relative;z-index: 1;}#sk-container-id-1 div.sk-parallel {display: flex;align-items: stretch;justify-content: center;background-color: white;position: relative;}#sk-container-id-1 div.sk-item::before, #sk-container-id-1 div.sk-parallel-item::before {content: \"\";position: absolute;border-left: 1px solid gray;box-sizing: border-box;top: 0;bottom: 0;left: 50%;z-index: -1;}#sk-container-id-1 div.sk-parallel-item {display: flex;flex-direction: column;z-index: 1;position: relative;background-color: white;}#sk-container-id-1 div.sk-parallel-item:first-child::after {align-self: flex-end;width: 50%;}#sk-container-id-1 div.sk-parallel-item:last-child::after {align-self: flex-start;width: 50%;}#sk-container-id-1 div.sk-parallel-item:only-child::after {width: 0;}#sk-container-id-1 div.sk-dashed-wrapped {border: 1px dashed gray;margin: 0 0.4em 0.5em 0.4em;box-sizing: border-box;padding-bottom: 0.4em;background-color: white;}#sk-container-id-1 div.sk-label label {font-family: monospace;font-weight: bold;display: inline-block;line-height: 1.2em;}#sk-container-id-1 div.sk-label-container {text-align: center;}#sk-container-id-1 div.sk-container {/* jupyter's `normalize.less` sets `[hidden] { display: none; }` but bootstrap.min.css set `[hidden] { display: none !important; }` so we also need the `!important` here to be able to override the default hidden behavior on the sphinx rendered scikit-learn.org. See: https://github.com/scikit-learn/scikit-learn/issues/21755 */display: inline-block !important;position: relative;}#sk-container-id-1 div.sk-text-repr-fallback {display: none;}</style><div id=\"sk-container-id-1\" class=\"sk-top-container\"><div class=\"sk-text-repr-fallback\"><pre>RandomizedSearchCV(cv=3, estimator=RandomForestRegressor(), n_iter=100,\n",
              "                   n_jobs=-1,\n",
              "                   param_distributions={&#x27;bootstrap&#x27;: [True, False],\n",
              "                                        &#x27;max_depth&#x27;: [10, 20, 30, 40, 50, 60,\n",
              "                                                      70, 80, 90, 100, 110,\n",
              "                                                      None],\n",
              "                                        &#x27;max_features&#x27;: [&#x27;auto&#x27;, &#x27;log2&#x27;],\n",
              "                                        &#x27;min_samples_leaf&#x27;: [1, 2, 4],\n",
              "                                        &#x27;min_samples_split&#x27;: [2, 5, 10],\n",
              "                                        &#x27;n_estimators&#x27;: [200, 400, 600, 800,\n",
              "                                                         1000, 1200, 1400, 1600,\n",
              "                                                         1800, 2000]},\n",
              "                   random_state=42, verbose=2)</pre><b>In a Jupyter environment, please rerun this cell to show the HTML representation or trust the notebook. <br />On GitHub, the HTML representation is unable to render, please try loading this page with nbviewer.org.</b></div><div class=\"sk-container\" hidden><div class=\"sk-item sk-dashed-wrapped\"><div class=\"sk-label-container\"><div class=\"sk-label sk-toggleable\"><input class=\"sk-toggleable__control sk-hidden--visually\" id=\"sk-estimator-id-1\" type=\"checkbox\" ><label for=\"sk-estimator-id-1\" class=\"sk-toggleable__label sk-toggleable__label-arrow\">RandomizedSearchCV</label><div class=\"sk-toggleable__content\"><pre>RandomizedSearchCV(cv=3, estimator=RandomForestRegressor(), n_iter=100,\n",
              "                   n_jobs=-1,\n",
              "                   param_distributions={&#x27;bootstrap&#x27;: [True, False],\n",
              "                                        &#x27;max_depth&#x27;: [10, 20, 30, 40, 50, 60,\n",
              "                                                      70, 80, 90, 100, 110,\n",
              "                                                      None],\n",
              "                                        &#x27;max_features&#x27;: [&#x27;auto&#x27;, &#x27;log2&#x27;],\n",
              "                                        &#x27;min_samples_leaf&#x27;: [1, 2, 4],\n",
              "                                        &#x27;min_samples_split&#x27;: [2, 5, 10],\n",
              "                                        &#x27;n_estimators&#x27;: [200, 400, 600, 800,\n",
              "                                                         1000, 1200, 1400, 1600,\n",
              "                                                         1800, 2000]},\n",
              "                   random_state=42, verbose=2)</pre></div></div></div><div class=\"sk-parallel\"><div class=\"sk-parallel-item\"><div class=\"sk-item\"><div class=\"sk-label-container\"><div class=\"sk-label sk-toggleable\"><input class=\"sk-toggleable__control sk-hidden--visually\" id=\"sk-estimator-id-2\" type=\"checkbox\" ><label for=\"sk-estimator-id-2\" class=\"sk-toggleable__label sk-toggleable__label-arrow\">estimator: RandomForestRegressor</label><div class=\"sk-toggleable__content\"><pre>RandomForestRegressor()</pre></div></div></div><div class=\"sk-serial\"><div class=\"sk-item\"><div class=\"sk-estimator sk-toggleable\"><input class=\"sk-toggleable__control sk-hidden--visually\" id=\"sk-estimator-id-3\" type=\"checkbox\" ><label for=\"sk-estimator-id-3\" class=\"sk-toggleable__label sk-toggleable__label-arrow\">RandomForestRegressor</label><div class=\"sk-toggleable__content\"><pre>RandomForestRegressor()</pre></div></div></div></div></div></div></div></div></div></div>"
            ]
          },
          "metadata": {},
          "execution_count": 22
        }
      ],
      "source": [
        "rnd_reg = RandomForestRegressor()\n",
        "rnd_search = RandomizedSearchCV(estimator = rnd_reg, param_distributions=random_grid,\n",
        "                               n_iter = 100, cv=3, verbose=2, random_state=42, n_jobs=-1)\n",
        "rnd_search.fit(X_train_reduced, y_train)"
      ]
    },
    {
      "cell_type": "code",
      "execution_count": null,
      "metadata": {
        "id": "Wet5XSNMKXnS",
        "colab": {
          "base_uri": "https://localhost:8080/"
        },
        "outputId": "f0ce8637-a174-49fa-d7db-426d3ca95f8e"
      },
      "outputs": [
        {
          "output_type": "stream",
          "name": "stdout",
          "text": [
            "{'n_estimators': 1200, 'min_samples_split': 2, 'min_samples_leaf': 4, 'max_features': 'log2', 'max_depth': 70, 'bootstrap': False}\n"
          ]
        }
      ],
      "source": [
        "print(rnd_search.best_params_)"
      ]
    },
    {
      "cell_type": "code",
      "execution_count": null,
      "metadata": {
        "id": "Y2kX3lXlKXnS",
        "colab": {
          "base_uri": "https://localhost:8080/"
        },
        "outputId": "202dda15-52d8-4c44-899c-314a09dd270f"
      },
      "outputs": [
        {
          "output_type": "execute_result",
          "data": {
            "text/plain": [
              "0.09006130796195737"
            ]
          },
          "metadata": {},
          "execution_count": 24
        }
      ],
      "source": [
        "best_model = rnd_search.best_estimator_\n",
        "val_pred = best_model.predict(X_val_reduced)\n",
        "val_mse = mean_squared_error(y_val, val_pred)\n",
        "val_rmse = np.sqrt(val_mse)\n",
        "val_rmse"
      ]
    },
    {
      "cell_type": "code",
      "execution_count": null,
      "metadata": {
        "id": "T43AAXp6KXnS",
        "colab": {
          "base_uri": "https://localhost:8080/"
        },
        "outputId": "fd524c20-be7f-4de7-d631-c4baefaa2cd6"
      },
      "outputs": [
        {
          "output_type": "execute_result",
          "data": {
            "text/plain": [
              "0.030017360874823377"
            ]
          },
          "metadata": {},
          "execution_count": 25
        }
      ],
      "source": [
        "train_mse = mean_squared_error(y_train, best_model.predict(X_train_reduced))\n",
        "train_rmse = np.sqrt(train_mse)\n",
        "train_rmse"
      ]
    },
    {
      "cell_type": "code",
      "execution_count": null,
      "metadata": {
        "id": "AMuV0GGuKXnT"
      },
      "outputs": [],
      "source": [
        "feat_labels = list(X_train.columns)"
      ]
    },
    {
      "cell_type": "code",
      "execution_count": null,
      "metadata": {
        "id": "WEbVCTITKXnT",
        "colab": {
          "base_uri": "https://localhost:8080/",
          "height": 158
        },
        "outputId": "78ae7803-51ad-4263-f2bd-e3bee87abbcf"
      },
      "outputs": [
        {
          "output_type": "execute_result",
          "data": {
            "text/plain": [
              "Pipeline(steps=[('scaler', MinMaxScaler()), ('pca', PCA(n_components=0.95)),\n",
              "                ('rnd_reg',\n",
              "                 RandomForestRegressor(bootstrap=False, max_depth=60,\n",
              "                                       max_features='log2', min_samples_leaf=4,\n",
              "                                       n_estimators=600))])"
            ],
            "text/html": [
              "<style>#sk-container-id-2 {color: black;background-color: white;}#sk-container-id-2 pre{padding: 0;}#sk-container-id-2 div.sk-toggleable {background-color: white;}#sk-container-id-2 label.sk-toggleable__label {cursor: pointer;display: block;width: 100%;margin-bottom: 0;padding: 0.3em;box-sizing: border-box;text-align: center;}#sk-container-id-2 label.sk-toggleable__label-arrow:before {content: \"▸\";float: left;margin-right: 0.25em;color: #696969;}#sk-container-id-2 label.sk-toggleable__label-arrow:hover:before {color: black;}#sk-container-id-2 div.sk-estimator:hover label.sk-toggleable__label-arrow:before {color: black;}#sk-container-id-2 div.sk-toggleable__content {max-height: 0;max-width: 0;overflow: hidden;text-align: left;background-color: #f0f8ff;}#sk-container-id-2 div.sk-toggleable__content pre {margin: 0.2em;color: black;border-radius: 0.25em;background-color: #f0f8ff;}#sk-container-id-2 input.sk-toggleable__control:checked~div.sk-toggleable__content {max-height: 200px;max-width: 100%;overflow: auto;}#sk-container-id-2 input.sk-toggleable__control:checked~label.sk-toggleable__label-arrow:before {content: \"▾\";}#sk-container-id-2 div.sk-estimator input.sk-toggleable__control:checked~label.sk-toggleable__label {background-color: #d4ebff;}#sk-container-id-2 div.sk-label input.sk-toggleable__control:checked~label.sk-toggleable__label {background-color: #d4ebff;}#sk-container-id-2 input.sk-hidden--visually {border: 0;clip: rect(1px 1px 1px 1px);clip: rect(1px, 1px, 1px, 1px);height: 1px;margin: -1px;overflow: hidden;padding: 0;position: absolute;width: 1px;}#sk-container-id-2 div.sk-estimator {font-family: monospace;background-color: #f0f8ff;border: 1px dotted black;border-radius: 0.25em;box-sizing: border-box;margin-bottom: 0.5em;}#sk-container-id-2 div.sk-estimator:hover {background-color: #d4ebff;}#sk-container-id-2 div.sk-parallel-item::after {content: \"\";width: 100%;border-bottom: 1px solid gray;flex-grow: 1;}#sk-container-id-2 div.sk-label:hover label.sk-toggleable__label {background-color: #d4ebff;}#sk-container-id-2 div.sk-serial::before {content: \"\";position: absolute;border-left: 1px solid gray;box-sizing: border-box;top: 0;bottom: 0;left: 50%;z-index: 0;}#sk-container-id-2 div.sk-serial {display: flex;flex-direction: column;align-items: center;background-color: white;padding-right: 0.2em;padding-left: 0.2em;position: relative;}#sk-container-id-2 div.sk-item {position: relative;z-index: 1;}#sk-container-id-2 div.sk-parallel {display: flex;align-items: stretch;justify-content: center;background-color: white;position: relative;}#sk-container-id-2 div.sk-item::before, #sk-container-id-2 div.sk-parallel-item::before {content: \"\";position: absolute;border-left: 1px solid gray;box-sizing: border-box;top: 0;bottom: 0;left: 50%;z-index: -1;}#sk-container-id-2 div.sk-parallel-item {display: flex;flex-direction: column;z-index: 1;position: relative;background-color: white;}#sk-container-id-2 div.sk-parallel-item:first-child::after {align-self: flex-end;width: 50%;}#sk-container-id-2 div.sk-parallel-item:last-child::after {align-self: flex-start;width: 50%;}#sk-container-id-2 div.sk-parallel-item:only-child::after {width: 0;}#sk-container-id-2 div.sk-dashed-wrapped {border: 1px dashed gray;margin: 0 0.4em 0.5em 0.4em;box-sizing: border-box;padding-bottom: 0.4em;background-color: white;}#sk-container-id-2 div.sk-label label {font-family: monospace;font-weight: bold;display: inline-block;line-height: 1.2em;}#sk-container-id-2 div.sk-label-container {text-align: center;}#sk-container-id-2 div.sk-container {/* jupyter's `normalize.less` sets `[hidden] { display: none; }` but bootstrap.min.css set `[hidden] { display: none !important; }` so we also need the `!important` here to be able to override the default hidden behavior on the sphinx rendered scikit-learn.org. See: https://github.com/scikit-learn/scikit-learn/issues/21755 */display: inline-block !important;position: relative;}#sk-container-id-2 div.sk-text-repr-fallback {display: none;}</style><div id=\"sk-container-id-2\" class=\"sk-top-container\"><div class=\"sk-text-repr-fallback\"><pre>Pipeline(steps=[(&#x27;scaler&#x27;, MinMaxScaler()), (&#x27;pca&#x27;, PCA(n_components=0.95)),\n",
              "                (&#x27;rnd_reg&#x27;,\n",
              "                 RandomForestRegressor(bootstrap=False, max_depth=60,\n",
              "                                       max_features=&#x27;log2&#x27;, min_samples_leaf=4,\n",
              "                                       n_estimators=600))])</pre><b>In a Jupyter environment, please rerun this cell to show the HTML representation or trust the notebook. <br />On GitHub, the HTML representation is unable to render, please try loading this page with nbviewer.org.</b></div><div class=\"sk-container\" hidden><div class=\"sk-item sk-dashed-wrapped\"><div class=\"sk-label-container\"><div class=\"sk-label sk-toggleable\"><input class=\"sk-toggleable__control sk-hidden--visually\" id=\"sk-estimator-id-4\" type=\"checkbox\" ><label for=\"sk-estimator-id-4\" class=\"sk-toggleable__label sk-toggleable__label-arrow\">Pipeline</label><div class=\"sk-toggleable__content\"><pre>Pipeline(steps=[(&#x27;scaler&#x27;, MinMaxScaler()), (&#x27;pca&#x27;, PCA(n_components=0.95)),\n",
              "                (&#x27;rnd_reg&#x27;,\n",
              "                 RandomForestRegressor(bootstrap=False, max_depth=60,\n",
              "                                       max_features=&#x27;log2&#x27;, min_samples_leaf=4,\n",
              "                                       n_estimators=600))])</pre></div></div></div><div class=\"sk-serial\"><div class=\"sk-item\"><div class=\"sk-estimator sk-toggleable\"><input class=\"sk-toggleable__control sk-hidden--visually\" id=\"sk-estimator-id-5\" type=\"checkbox\" ><label for=\"sk-estimator-id-5\" class=\"sk-toggleable__label sk-toggleable__label-arrow\">MinMaxScaler</label><div class=\"sk-toggleable__content\"><pre>MinMaxScaler()</pre></div></div></div><div class=\"sk-item\"><div class=\"sk-estimator sk-toggleable\"><input class=\"sk-toggleable__control sk-hidden--visually\" id=\"sk-estimator-id-6\" type=\"checkbox\" ><label for=\"sk-estimator-id-6\" class=\"sk-toggleable__label sk-toggleable__label-arrow\">PCA</label><div class=\"sk-toggleable__content\"><pre>PCA(n_components=0.95)</pre></div></div></div><div class=\"sk-item\"><div class=\"sk-estimator sk-toggleable\"><input class=\"sk-toggleable__control sk-hidden--visually\" id=\"sk-estimator-id-7\" type=\"checkbox\" ><label for=\"sk-estimator-id-7\" class=\"sk-toggleable__label sk-toggleable__label-arrow\">RandomForestRegressor</label><div class=\"sk-toggleable__content\"><pre>RandomForestRegressor(bootstrap=False, max_depth=60, max_features=&#x27;log2&#x27;,\n",
              "                      min_samples_leaf=4, n_estimators=600)</pre></div></div></div></div></div></div></div>"
            ]
          },
          "metadata": {},
          "execution_count": 27
        }
      ],
      "source": [
        "# pipeline for random forest\n",
        "best_model = rnd_search.best_estimator_\n",
        "rnd_pipeline = Pipeline((\n",
        "    ('scaler', MinMaxScaler()),\n",
        "    ('pca', PCA(n_components=0.95)),\n",
        "    ('rnd_reg', RandomForestRegressor(n_estimators=600, min_samples_split=2, min_samples_leaf=4,\n",
        "                                     max_features='log2', max_depth=60, bootstrap=False)),\n",
        "))\n",
        "\n",
        "rnd_pipeline.fit(X_train, y_train)\n"
      ]
    },
    {
      "cell_type": "code",
      "execution_count": null,
      "metadata": {
        "id": "dmI__134KXnU",
        "colab": {
          "base_uri": "https://localhost:8080/"
        },
        "outputId": "57b5f5eb-2c96-48c6-f6be-aa95b88f2f43"
      },
      "outputs": [
        {
          "output_type": "execute_result",
          "data": {
            "text/plain": [
              "array([-0.01576437, -0.03742061, -0.05196492, -0.04871738, -0.05928717,\n",
              "       -0.09249573, -0.10375975, -0.03527946, -0.047212  , -0.06318432,\n",
              "       -0.08092376, -0.05398769, -0.02048615, -0.02657775, -0.10722604,\n",
              "       -0.0377774 , -0.05904379, -0.03896388, -0.05764233, -0.05402078,\n",
              "       -0.05204718, -0.0491686 , -0.06603869, -0.088228  , -0.02521095,\n",
              "       -0.0517535 , -0.07341893, -0.05317378, -0.05466401, -0.05760371,\n",
              "       -0.05162565, -0.03594662, -0.09804189, -0.09547994, -0.04200744,\n",
              "       -0.01471225, -0.05945261, -0.04159537, -0.04108339, -0.05943642,\n",
              "       -0.03399124, -0.06449629, -0.0612043 , -0.02972153, -0.05431201,\n",
              "       -0.05705412, -0.02666263, -0.06980427, -0.07164716, -0.03248876,\n",
              "       -0.05208042, -0.01574835, -0.03080054, -0.04726694, -0.04261427,\n",
              "       -0.02157324, -0.07281233, -0.05286376, -0.05382102, -0.06188881,\n",
              "       -0.03150901, -0.04204642, -0.0785144 , -0.06144398])"
            ]
          },
          "metadata": {},
          "execution_count": 28
        }
      ],
      "source": [
        "rnd_pipeline.predict(X_val)"
      ]
    },
    {
      "cell_type": "code",
      "execution_count": null,
      "metadata": {
        "id": "0ooHVk_yKXnU",
        "colab": {
          "base_uri": "https://localhost:8080/"
        },
        "outputId": "f09bd1bc-7dd5-4523-929f-b622c0e05493"
      },
      "outputs": [
        {
          "output_type": "execute_result",
          "data": {
            "text/plain": [
              "0.09033987072565303"
            ]
          },
          "metadata": {},
          "execution_count": 29
        }
      ],
      "source": [
        "val_pred = rnd_pipeline.predict(X_val)\n",
        "val_mse = mean_squared_error(y_val, val_pred)\n",
        "val_rmse = np.sqrt(val_mse)\n",
        "val_rmse"
      ]
    },
    {
      "cell_type": "code",
      "execution_count": null,
      "metadata": {
        "id": "EpFFGaoQKXnV",
        "colab": {
          "base_uri": "https://localhost:8080/"
        },
        "outputId": "05d98888-ceee-4d65-b2cc-7f6d62d59e49"
      },
      "outputs": [
        {
          "output_type": "execute_result",
          "data": {
            "text/plain": [
              "0.030061551535849034"
            ]
          },
          "metadata": {},
          "execution_count": 30
        }
      ],
      "source": [
        "train_mse = mean_squared_error(y_train, rnd_pipeline.predict(X_train))\n",
        "train_rmse = np.sqrt(train_mse)\n",
        "train_rmse"
      ]
    },
    {
      "cell_type": "markdown",
      "metadata": {
        "id": "KAWFYQmlKXnV"
      },
      "source": [
        "#### final als12 rnd prediction"
      ]
    },
    {
      "cell_type": "code",
      "execution_count": null,
      "metadata": {
        "id": "sGvGB3qBKXnV",
        "colab": {
          "base_uri": "https://localhost:8080/"
        },
        "outputId": "02c581cb-1ce3-455d-c3f1-1b07d8bb5991"
      },
      "outputs": [
        {
          "output_type": "execute_result",
          "data": {
            "text/plain": [
              "0.028611617512963698"
            ]
          },
          "metadata": {},
          "execution_count": 31
        }
      ],
      "source": [
        "# final prediction on als12\n",
        "als12_pred = rnd_pipeline.predict(X_als12)\n",
        "als12_rnd_mse = mean_squared_error(y_als12, als12_pred)\n",
        "als12_rnd_rmse = np.sqrt(als12_rnd_mse)\n",
        "als12_rnd_rmse"
      ]
    },
    {
      "cell_type": "markdown",
      "metadata": {
        "id": "7OmOCE7UKXnW"
      },
      "source": [
        "### Select best param train X_train without pca to compare differences, finding that pca didn't help, made it worse instead"
      ]
    },
    {
      "cell_type": "code",
      "execution_count": null,
      "metadata": {
        "id": "3R_6l_K1KXnY",
        "colab": {
          "base_uri": "https://localhost:8080/",
          "height": 133
        },
        "outputId": "c6164960-9f4c-47e3-8289-ec3f91e49513"
      },
      "outputs": [
        {
          "metadata": {
            "tags": null
          },
          "name": "stdout",
          "output_type": "stream",
          "text": [
            "Fitting 3 folds for each of 100 candidates, totalling 300 fits\n"
          ]
        },
        {
          "output_type": "execute_result",
          "data": {
            "text/plain": [
              "RandomizedSearchCV(cv=3, estimator=RandomForestRegressor(), n_iter=100,\n",
              "                   n_jobs=-1,\n",
              "                   param_distributions={'bootstrap': [True, False],\n",
              "                                        'max_depth': [10, 20, 30, 40, 50, 60,\n",
              "                                                      70, 80, 90, 100, 110,\n",
              "                                                      None],\n",
              "                                        'max_features': ['auto', 'log2'],\n",
              "                                        'min_samples_leaf': [1, 2, 4],\n",
              "                                        'min_samples_split': [2, 5, 10],\n",
              "                                        'n_estimators': [200, 400, 600, 800,\n",
              "                                                         1000, 1200, 1400, 1600,\n",
              "                                                         1800, 2000]},\n",
              "                   random_state=42, verbose=2)"
            ],
            "text/html": [
              "<style>#sk-container-id-3 {color: black;background-color: white;}#sk-container-id-3 pre{padding: 0;}#sk-container-id-3 div.sk-toggleable {background-color: white;}#sk-container-id-3 label.sk-toggleable__label {cursor: pointer;display: block;width: 100%;margin-bottom: 0;padding: 0.3em;box-sizing: border-box;text-align: center;}#sk-container-id-3 label.sk-toggleable__label-arrow:before {content: \"▸\";float: left;margin-right: 0.25em;color: #696969;}#sk-container-id-3 label.sk-toggleable__label-arrow:hover:before {color: black;}#sk-container-id-3 div.sk-estimator:hover label.sk-toggleable__label-arrow:before {color: black;}#sk-container-id-3 div.sk-toggleable__content {max-height: 0;max-width: 0;overflow: hidden;text-align: left;background-color: #f0f8ff;}#sk-container-id-3 div.sk-toggleable__content pre {margin: 0.2em;color: black;border-radius: 0.25em;background-color: #f0f8ff;}#sk-container-id-3 input.sk-toggleable__control:checked~div.sk-toggleable__content {max-height: 200px;max-width: 100%;overflow: auto;}#sk-container-id-3 input.sk-toggleable__control:checked~label.sk-toggleable__label-arrow:before {content: \"▾\";}#sk-container-id-3 div.sk-estimator input.sk-toggleable__control:checked~label.sk-toggleable__label {background-color: #d4ebff;}#sk-container-id-3 div.sk-label input.sk-toggleable__control:checked~label.sk-toggleable__label {background-color: #d4ebff;}#sk-container-id-3 input.sk-hidden--visually {border: 0;clip: rect(1px 1px 1px 1px);clip: rect(1px, 1px, 1px, 1px);height: 1px;margin: -1px;overflow: hidden;padding: 0;position: absolute;width: 1px;}#sk-container-id-3 div.sk-estimator {font-family: monospace;background-color: #f0f8ff;border: 1px dotted black;border-radius: 0.25em;box-sizing: border-box;margin-bottom: 0.5em;}#sk-container-id-3 div.sk-estimator:hover {background-color: #d4ebff;}#sk-container-id-3 div.sk-parallel-item::after {content: \"\";width: 100%;border-bottom: 1px solid gray;flex-grow: 1;}#sk-container-id-3 div.sk-label:hover label.sk-toggleable__label {background-color: #d4ebff;}#sk-container-id-3 div.sk-serial::before {content: \"\";position: absolute;border-left: 1px solid gray;box-sizing: border-box;top: 0;bottom: 0;left: 50%;z-index: 0;}#sk-container-id-3 div.sk-serial {display: flex;flex-direction: column;align-items: center;background-color: white;padding-right: 0.2em;padding-left: 0.2em;position: relative;}#sk-container-id-3 div.sk-item {position: relative;z-index: 1;}#sk-container-id-3 div.sk-parallel {display: flex;align-items: stretch;justify-content: center;background-color: white;position: relative;}#sk-container-id-3 div.sk-item::before, #sk-container-id-3 div.sk-parallel-item::before {content: \"\";position: absolute;border-left: 1px solid gray;box-sizing: border-box;top: 0;bottom: 0;left: 50%;z-index: -1;}#sk-container-id-3 div.sk-parallel-item {display: flex;flex-direction: column;z-index: 1;position: relative;background-color: white;}#sk-container-id-3 div.sk-parallel-item:first-child::after {align-self: flex-end;width: 50%;}#sk-container-id-3 div.sk-parallel-item:last-child::after {align-self: flex-start;width: 50%;}#sk-container-id-3 div.sk-parallel-item:only-child::after {width: 0;}#sk-container-id-3 div.sk-dashed-wrapped {border: 1px dashed gray;margin: 0 0.4em 0.5em 0.4em;box-sizing: border-box;padding-bottom: 0.4em;background-color: white;}#sk-container-id-3 div.sk-label label {font-family: monospace;font-weight: bold;display: inline-block;line-height: 1.2em;}#sk-container-id-3 div.sk-label-container {text-align: center;}#sk-container-id-3 div.sk-container {/* jupyter's `normalize.less` sets `[hidden] { display: none; }` but bootstrap.min.css set `[hidden] { display: none !important; }` so we also need the `!important` here to be able to override the default hidden behavior on the sphinx rendered scikit-learn.org. See: https://github.com/scikit-learn/scikit-learn/issues/21755 */display: inline-block !important;position: relative;}#sk-container-id-3 div.sk-text-repr-fallback {display: none;}</style><div id=\"sk-container-id-3\" class=\"sk-top-container\"><div class=\"sk-text-repr-fallback\"><pre>RandomizedSearchCV(cv=3, estimator=RandomForestRegressor(), n_iter=100,\n",
              "                   n_jobs=-1,\n",
              "                   param_distributions={&#x27;bootstrap&#x27;: [True, False],\n",
              "                                        &#x27;max_depth&#x27;: [10, 20, 30, 40, 50, 60,\n",
              "                                                      70, 80, 90, 100, 110,\n",
              "                                                      None],\n",
              "                                        &#x27;max_features&#x27;: [&#x27;auto&#x27;, &#x27;log2&#x27;],\n",
              "                                        &#x27;min_samples_leaf&#x27;: [1, 2, 4],\n",
              "                                        &#x27;min_samples_split&#x27;: [2, 5, 10],\n",
              "                                        &#x27;n_estimators&#x27;: [200, 400, 600, 800,\n",
              "                                                         1000, 1200, 1400, 1600,\n",
              "                                                         1800, 2000]},\n",
              "                   random_state=42, verbose=2)</pre><b>In a Jupyter environment, please rerun this cell to show the HTML representation or trust the notebook. <br />On GitHub, the HTML representation is unable to render, please try loading this page with nbviewer.org.</b></div><div class=\"sk-container\" hidden><div class=\"sk-item sk-dashed-wrapped\"><div class=\"sk-label-container\"><div class=\"sk-label sk-toggleable\"><input class=\"sk-toggleable__control sk-hidden--visually\" id=\"sk-estimator-id-8\" type=\"checkbox\" ><label for=\"sk-estimator-id-8\" class=\"sk-toggleable__label sk-toggleable__label-arrow\">RandomizedSearchCV</label><div class=\"sk-toggleable__content\"><pre>RandomizedSearchCV(cv=3, estimator=RandomForestRegressor(), n_iter=100,\n",
              "                   n_jobs=-1,\n",
              "                   param_distributions={&#x27;bootstrap&#x27;: [True, False],\n",
              "                                        &#x27;max_depth&#x27;: [10, 20, 30, 40, 50, 60,\n",
              "                                                      70, 80, 90, 100, 110,\n",
              "                                                      None],\n",
              "                                        &#x27;max_features&#x27;: [&#x27;auto&#x27;, &#x27;log2&#x27;],\n",
              "                                        &#x27;min_samples_leaf&#x27;: [1, 2, 4],\n",
              "                                        &#x27;min_samples_split&#x27;: [2, 5, 10],\n",
              "                                        &#x27;n_estimators&#x27;: [200, 400, 600, 800,\n",
              "                                                         1000, 1200, 1400, 1600,\n",
              "                                                         1800, 2000]},\n",
              "                   random_state=42, verbose=2)</pre></div></div></div><div class=\"sk-parallel\"><div class=\"sk-parallel-item\"><div class=\"sk-item\"><div class=\"sk-label-container\"><div class=\"sk-label sk-toggleable\"><input class=\"sk-toggleable__control sk-hidden--visually\" id=\"sk-estimator-id-9\" type=\"checkbox\" ><label for=\"sk-estimator-id-9\" class=\"sk-toggleable__label sk-toggleable__label-arrow\">estimator: RandomForestRegressor</label><div class=\"sk-toggleable__content\"><pre>RandomForestRegressor()</pre></div></div></div><div class=\"sk-serial\"><div class=\"sk-item\"><div class=\"sk-estimator sk-toggleable\"><input class=\"sk-toggleable__control sk-hidden--visually\" id=\"sk-estimator-id-10\" type=\"checkbox\" ><label for=\"sk-estimator-id-10\" class=\"sk-toggleable__label sk-toggleable__label-arrow\">RandomForestRegressor</label><div class=\"sk-toggleable__content\"><pre>RandomForestRegressor()</pre></div></div></div></div></div></div></div></div></div></div>"
            ]
          },
          "metadata": {},
          "execution_count": 32
        }
      ],
      "source": [
        "rnd_reg = RandomForestRegressor()\n",
        "rnd_search2 = RandomizedSearchCV(estimator = rnd_reg, param_distributions=random_grid,\n",
        "                               n_iter = 100, cv=3, verbose=2, random_state=42, n_jobs=-1)\n",
        "rnd_search2.fit(X_train_reduced, y_train)"
      ]
    },
    {
      "cell_type": "code",
      "execution_count": null,
      "metadata": {
        "id": "C5tYP5WXKXnY",
        "colab": {
          "base_uri": "https://localhost:8080/"
        },
        "outputId": "73521335-c236-4447-eb62-14b0a9e3ca88"
      },
      "outputs": [
        {
          "output_type": "execute_result",
          "data": {
            "text/plain": [
              "0.0900473483603966"
            ]
          },
          "metadata": {},
          "execution_count": 33
        }
      ],
      "source": [
        "best_model2 = rnd_search2.best_estimator_\n",
        "val_pred = best_model2.predict(X_val_reduced)\n",
        "val_mse = mean_squared_error(y_val, val_pred)\n",
        "val_rmse = np.sqrt(val_mse)\n",
        "val_rmse\n"
      ]
    },
    {
      "cell_type": "code",
      "execution_count": null,
      "metadata": {
        "id": "Aw6QqU9CKXnZ",
        "colab": {
          "base_uri": "https://localhost:8080/"
        },
        "outputId": "db9a5582-203a-4398-b823-ee649ba355f4"
      },
      "outputs": [
        {
          "output_type": "execute_result",
          "data": {
            "text/plain": [
              "0.029955523985478034"
            ]
          },
          "metadata": {},
          "execution_count": 34
        }
      ],
      "source": [
        "train_mse2 = mean_squared_error(y_train, best_model2.predict(X_train_reduced))\n",
        "train_rmse2 = np.sqrt(train_mse2)\n",
        "train_rmse2"
      ]
    },
    {
      "cell_type": "code",
      "execution_count": null,
      "metadata": {
        "id": "_qD04jRSKXnZ",
        "colab": {
          "base_uri": "https://localhost:8080/"
        },
        "outputId": "fa53dfc2-cb07-4726-9a6b-e5008d3eb188"
      },
      "outputs": [
        {
          "output_type": "execute_result",
          "data": {
            "text/plain": [
              "[('Q1_Speech', 0.0902004977541195),\n",
              " ('Q2_Salivation', 0.06969315415992511),\n",
              " ('Q6_Dressing_and_Hygiene', 0.061436614891751604),\n",
              " ('Race_Caucasian', 0.054224963999551574),\n",
              " ('Q10_Respiratory', 0.05188018762185937),\n",
              " ('Q9_Climbing_Stairs', 0.051495913686236544),\n",
              " ('ALSFRS_Total', 0.05087962636597062),\n",
              " ('famhis', 0.04910709591947537),\n",
              " ('Q4_Handwriting', 0.04222470301972977),\n",
              " ('Q7_Turning_in_Bed', 0.04216311860696244),\n",
              " ('Q5a_Cutting_without_Gastrostomy', 0.04097730992223338),\n",
              " ('Q8_Walking', 0.03571245268877253),\n",
              " ('Limb_Onset', 0.034440939354849834),\n",
              " ('ALSFRS_Delta', 0.032779927680148105),\n",
              " ('Q3_Swallowing', 0.03059668029752937),\n",
              " ('Spine_Onset', 0.030138322373102),\n",
              " ('Other_Onset', 0.030048823802378204),\n",
              " ('Limb_Bulbar_Onset', 0.029128876530380245),\n",
              " ('Sex', 0.02706279585933641),\n",
              " ('Age', 0.026594627307452053),\n",
              " ('Onset_Delta', 0.026562000400791052),\n",
              " ('Bulbar_Onset', 0.024577406708645465),\n",
              " ('Study_Arm', 0.024033217937743837),\n",
              " ('Ethnicity', 0.02372417099799825),\n",
              " ('FVC_Subject_Liters_Trial_1', 0.02031657211305753)]"
            ]
          },
          "metadata": {},
          "execution_count": 35
        }
      ],
      "source": [
        "features = []\n",
        "for feature in zip(feat_labels, best_model2.feature_importances_):\n",
        "    features.append(feature)\n",
        "    #print(feature)\n",
        "#features\n",
        "sorted_feature = sorted(features, reverse=True, key=lambda x: x[1])\n",
        "sorted_feature"
      ]
    },
    {
      "cell_type": "markdown",
      "metadata": {
        "id": "fpPDCiPLKXnZ"
      },
      "source": [
        "# Select most important features to train again"
      ]
    },
    {
      "cell_type": "code",
      "execution_count": null,
      "metadata": {
        "id": "e5zRKpLqKXna",
        "colab": {
          "base_uri": "https://localhost:8080/",
          "height": 116
        },
        "outputId": "a9c3c9cc-9d61-479f-8ec0-2731f3beb57f"
      },
      "outputs": [
        {
          "output_type": "execute_result",
          "data": {
            "text/plain": [
              "SelectFromModel(estimator=RandomForestRegressor(bootstrap=False, max_depth=80,\n",
              "                                                max_features='log2',\n",
              "                                                min_samples_leaf=4,\n",
              "                                                n_estimators=1400),\n",
              "                threshold=0.04)"
            ],
            "text/html": [
              "<style>#sk-container-id-4 {color: black;background-color: white;}#sk-container-id-4 pre{padding: 0;}#sk-container-id-4 div.sk-toggleable {background-color: white;}#sk-container-id-4 label.sk-toggleable__label {cursor: pointer;display: block;width: 100%;margin-bottom: 0;padding: 0.3em;box-sizing: border-box;text-align: center;}#sk-container-id-4 label.sk-toggleable__label-arrow:before {content: \"▸\";float: left;margin-right: 0.25em;color: #696969;}#sk-container-id-4 label.sk-toggleable__label-arrow:hover:before {color: black;}#sk-container-id-4 div.sk-estimator:hover label.sk-toggleable__label-arrow:before {color: black;}#sk-container-id-4 div.sk-toggleable__content {max-height: 0;max-width: 0;overflow: hidden;text-align: left;background-color: #f0f8ff;}#sk-container-id-4 div.sk-toggleable__content pre {margin: 0.2em;color: black;border-radius: 0.25em;background-color: #f0f8ff;}#sk-container-id-4 input.sk-toggleable__control:checked~div.sk-toggleable__content {max-height: 200px;max-width: 100%;overflow: auto;}#sk-container-id-4 input.sk-toggleable__control:checked~label.sk-toggleable__label-arrow:before {content: \"▾\";}#sk-container-id-4 div.sk-estimator input.sk-toggleable__control:checked~label.sk-toggleable__label {background-color: #d4ebff;}#sk-container-id-4 div.sk-label input.sk-toggleable__control:checked~label.sk-toggleable__label {background-color: #d4ebff;}#sk-container-id-4 input.sk-hidden--visually {border: 0;clip: rect(1px 1px 1px 1px);clip: rect(1px, 1px, 1px, 1px);height: 1px;margin: -1px;overflow: hidden;padding: 0;position: absolute;width: 1px;}#sk-container-id-4 div.sk-estimator {font-family: monospace;background-color: #f0f8ff;border: 1px dotted black;border-radius: 0.25em;box-sizing: border-box;margin-bottom: 0.5em;}#sk-container-id-4 div.sk-estimator:hover {background-color: #d4ebff;}#sk-container-id-4 div.sk-parallel-item::after {content: \"\";width: 100%;border-bottom: 1px solid gray;flex-grow: 1;}#sk-container-id-4 div.sk-label:hover label.sk-toggleable__label {background-color: #d4ebff;}#sk-container-id-4 div.sk-serial::before {content: \"\";position: absolute;border-left: 1px solid gray;box-sizing: border-box;top: 0;bottom: 0;left: 50%;z-index: 0;}#sk-container-id-4 div.sk-serial {display: flex;flex-direction: column;align-items: center;background-color: white;padding-right: 0.2em;padding-left: 0.2em;position: relative;}#sk-container-id-4 div.sk-item {position: relative;z-index: 1;}#sk-container-id-4 div.sk-parallel {display: flex;align-items: stretch;justify-content: center;background-color: white;position: relative;}#sk-container-id-4 div.sk-item::before, #sk-container-id-4 div.sk-parallel-item::before {content: \"\";position: absolute;border-left: 1px solid gray;box-sizing: border-box;top: 0;bottom: 0;left: 50%;z-index: -1;}#sk-container-id-4 div.sk-parallel-item {display: flex;flex-direction: column;z-index: 1;position: relative;background-color: white;}#sk-container-id-4 div.sk-parallel-item:first-child::after {align-self: flex-end;width: 50%;}#sk-container-id-4 div.sk-parallel-item:last-child::after {align-self: flex-start;width: 50%;}#sk-container-id-4 div.sk-parallel-item:only-child::after {width: 0;}#sk-container-id-4 div.sk-dashed-wrapped {border: 1px dashed gray;margin: 0 0.4em 0.5em 0.4em;box-sizing: border-box;padding-bottom: 0.4em;background-color: white;}#sk-container-id-4 div.sk-label label {font-family: monospace;font-weight: bold;display: inline-block;line-height: 1.2em;}#sk-container-id-4 div.sk-label-container {text-align: center;}#sk-container-id-4 div.sk-container {/* jupyter's `normalize.less` sets `[hidden] { display: none; }` but bootstrap.min.css set `[hidden] { display: none !important; }` so we also need the `!important` here to be able to override the default hidden behavior on the sphinx rendered scikit-learn.org. See: https://github.com/scikit-learn/scikit-learn/issues/21755 */display: inline-block !important;position: relative;}#sk-container-id-4 div.sk-text-repr-fallback {display: none;}</style><div id=\"sk-container-id-4\" class=\"sk-top-container\"><div class=\"sk-text-repr-fallback\"><pre>SelectFromModel(estimator=RandomForestRegressor(bootstrap=False, max_depth=80,\n",
              "                                                max_features=&#x27;log2&#x27;,\n",
              "                                                min_samples_leaf=4,\n",
              "                                                n_estimators=1400),\n",
              "                threshold=0.04)</pre><b>In a Jupyter environment, please rerun this cell to show the HTML representation or trust the notebook. <br />On GitHub, the HTML representation is unable to render, please try loading this page with nbviewer.org.</b></div><div class=\"sk-container\" hidden><div class=\"sk-item sk-dashed-wrapped\"><div class=\"sk-label-container\"><div class=\"sk-label sk-toggleable\"><input class=\"sk-toggleable__control sk-hidden--visually\" id=\"sk-estimator-id-11\" type=\"checkbox\" ><label for=\"sk-estimator-id-11\" class=\"sk-toggleable__label sk-toggleable__label-arrow\">SelectFromModel</label><div class=\"sk-toggleable__content\"><pre>SelectFromModel(estimator=RandomForestRegressor(bootstrap=False, max_depth=80,\n",
              "                                                max_features=&#x27;log2&#x27;,\n",
              "                                                min_samples_leaf=4,\n",
              "                                                n_estimators=1400),\n",
              "                threshold=0.04)</pre></div></div></div><div class=\"sk-parallel\"><div class=\"sk-parallel-item\"><div class=\"sk-item\"><div class=\"sk-label-container\"><div class=\"sk-label sk-toggleable\"><input class=\"sk-toggleable__control sk-hidden--visually\" id=\"sk-estimator-id-12\" type=\"checkbox\" ><label for=\"sk-estimator-id-12\" class=\"sk-toggleable__label sk-toggleable__label-arrow\">estimator: RandomForestRegressor</label><div class=\"sk-toggleable__content\"><pre>RandomForestRegressor(bootstrap=False, max_depth=80, max_features=&#x27;log2&#x27;,\n",
              "                      min_samples_leaf=4, n_estimators=1400)</pre></div></div></div><div class=\"sk-serial\"><div class=\"sk-item\"><div class=\"sk-estimator sk-toggleable\"><input class=\"sk-toggleable__control sk-hidden--visually\" id=\"sk-estimator-id-13\" type=\"checkbox\" ><label for=\"sk-estimator-id-13\" class=\"sk-toggleable__label sk-toggleable__label-arrow\">RandomForestRegressor</label><div class=\"sk-toggleable__content\"><pre>RandomForestRegressor(bootstrap=False, max_depth=80, max_features=&#x27;log2&#x27;,\n",
              "                      min_samples_leaf=4, n_estimators=1400)</pre></div></div></div></div></div></div></div></div></div></div>"
            ]
          },
          "metadata": {},
          "execution_count": 36
        }
      ],
      "source": [
        "sfm = SelectFromModel(best_model2, threshold=0.04)\n",
        "sfm.fit(X_train, y_train)"
      ]
    },
    {
      "cell_type": "code",
      "execution_count": null,
      "metadata": {
        "id": "6v3q6XIUKXna",
        "colab": {
          "base_uri": "https://localhost:8080/"
        },
        "outputId": "95b87466-d8aa-44ed-f6de-87b0e868367b"
      },
      "outputs": [
        {
          "output_type": "stream",
          "name": "stdout",
          "text": [
            "Q3_Swallowing\n",
            "ALSFRS_Delta\n",
            "ALSFRS_Total\n",
            "Onset_Delta\n",
            "Forced_Vital_Capacity_Delta\n",
            "Vital_Signs_Delta\n"
          ]
        }
      ],
      "source": [
        "for feature_list_index in sfm.get_support(indices=True):\n",
        "    print(feat_labels[feature_list_index])"
      ]
    },
    {
      "cell_type": "code",
      "execution_count": null,
      "metadata": {
        "id": "JGhgX9O_KXna"
      },
      "outputs": [],
      "source": [
        "X_important_train = sfm.transform(X_train)\n",
        "X_important_val = sfm.transform(X_val)"
      ]
    },
    {
      "cell_type": "code",
      "execution_count": null,
      "metadata": {
        "id": "jGjRPjLHKXnb",
        "colab": {
          "base_uri": "https://localhost:8080/",
          "height": 133
        },
        "outputId": "a568959e-85d4-4913-8d29-85f3e48b5371"
      },
      "outputs": [
        {
          "output_type": "stream",
          "name": "stdout",
          "text": [
            "Fitting 3 folds for each of 100 candidates, totalling 300 fits\n"
          ]
        },
        {
          "output_type": "execute_result",
          "data": {
            "text/plain": [
              "RandomizedSearchCV(cv=3, estimator=RandomForestRegressor(), n_iter=100,\n",
              "                   n_jobs=-1,\n",
              "                   param_distributions={'bootstrap': [True, False],\n",
              "                                        'max_depth': [10, 20, 30, 40, 50, 60,\n",
              "                                                      70, 80, 90, 100, 110,\n",
              "                                                      None],\n",
              "                                        'max_features': ['auto', 'log2'],\n",
              "                                        'min_samples_leaf': [1, 2, 4],\n",
              "                                        'min_samples_split': [2, 5, 10],\n",
              "                                        'n_estimators': [200, 400, 600, 800,\n",
              "                                                         1000, 1200, 1400, 1600,\n",
              "                                                         1800, 2000]},\n",
              "                   random_state=42, verbose=2)"
            ],
            "text/html": [
              "<style>#sk-container-id-5 {color: black;background-color: white;}#sk-container-id-5 pre{padding: 0;}#sk-container-id-5 div.sk-toggleable {background-color: white;}#sk-container-id-5 label.sk-toggleable__label {cursor: pointer;display: block;width: 100%;margin-bottom: 0;padding: 0.3em;box-sizing: border-box;text-align: center;}#sk-container-id-5 label.sk-toggleable__label-arrow:before {content: \"▸\";float: left;margin-right: 0.25em;color: #696969;}#sk-container-id-5 label.sk-toggleable__label-arrow:hover:before {color: black;}#sk-container-id-5 div.sk-estimator:hover label.sk-toggleable__label-arrow:before {color: black;}#sk-container-id-5 div.sk-toggleable__content {max-height: 0;max-width: 0;overflow: hidden;text-align: left;background-color: #f0f8ff;}#sk-container-id-5 div.sk-toggleable__content pre {margin: 0.2em;color: black;border-radius: 0.25em;background-color: #f0f8ff;}#sk-container-id-5 input.sk-toggleable__control:checked~div.sk-toggleable__content {max-height: 200px;max-width: 100%;overflow: auto;}#sk-container-id-5 input.sk-toggleable__control:checked~label.sk-toggleable__label-arrow:before {content: \"▾\";}#sk-container-id-5 div.sk-estimator input.sk-toggleable__control:checked~label.sk-toggleable__label {background-color: #d4ebff;}#sk-container-id-5 div.sk-label input.sk-toggleable__control:checked~label.sk-toggleable__label {background-color: #d4ebff;}#sk-container-id-5 input.sk-hidden--visually {border: 0;clip: rect(1px 1px 1px 1px);clip: rect(1px, 1px, 1px, 1px);height: 1px;margin: -1px;overflow: hidden;padding: 0;position: absolute;width: 1px;}#sk-container-id-5 div.sk-estimator {font-family: monospace;background-color: #f0f8ff;border: 1px dotted black;border-radius: 0.25em;box-sizing: border-box;margin-bottom: 0.5em;}#sk-container-id-5 div.sk-estimator:hover {background-color: #d4ebff;}#sk-container-id-5 div.sk-parallel-item::after {content: \"\";width: 100%;border-bottom: 1px solid gray;flex-grow: 1;}#sk-container-id-5 div.sk-label:hover label.sk-toggleable__label {background-color: #d4ebff;}#sk-container-id-5 div.sk-serial::before {content: \"\";position: absolute;border-left: 1px solid gray;box-sizing: border-box;top: 0;bottom: 0;left: 50%;z-index: 0;}#sk-container-id-5 div.sk-serial {display: flex;flex-direction: column;align-items: center;background-color: white;padding-right: 0.2em;padding-left: 0.2em;position: relative;}#sk-container-id-5 div.sk-item {position: relative;z-index: 1;}#sk-container-id-5 div.sk-parallel {display: flex;align-items: stretch;justify-content: center;background-color: white;position: relative;}#sk-container-id-5 div.sk-item::before, #sk-container-id-5 div.sk-parallel-item::before {content: \"\";position: absolute;border-left: 1px solid gray;box-sizing: border-box;top: 0;bottom: 0;left: 50%;z-index: -1;}#sk-container-id-5 div.sk-parallel-item {display: flex;flex-direction: column;z-index: 1;position: relative;background-color: white;}#sk-container-id-5 div.sk-parallel-item:first-child::after {align-self: flex-end;width: 50%;}#sk-container-id-5 div.sk-parallel-item:last-child::after {align-self: flex-start;width: 50%;}#sk-container-id-5 div.sk-parallel-item:only-child::after {width: 0;}#sk-container-id-5 div.sk-dashed-wrapped {border: 1px dashed gray;margin: 0 0.4em 0.5em 0.4em;box-sizing: border-box;padding-bottom: 0.4em;background-color: white;}#sk-container-id-5 div.sk-label label {font-family: monospace;font-weight: bold;display: inline-block;line-height: 1.2em;}#sk-container-id-5 div.sk-label-container {text-align: center;}#sk-container-id-5 div.sk-container {/* jupyter's `normalize.less` sets `[hidden] { display: none; }` but bootstrap.min.css set `[hidden] { display: none !important; }` so we also need the `!important` here to be able to override the default hidden behavior on the sphinx rendered scikit-learn.org. See: https://github.com/scikit-learn/scikit-learn/issues/21755 */display: inline-block !important;position: relative;}#sk-container-id-5 div.sk-text-repr-fallback {display: none;}</style><div id=\"sk-container-id-5\" class=\"sk-top-container\"><div class=\"sk-text-repr-fallback\"><pre>RandomizedSearchCV(cv=3, estimator=RandomForestRegressor(), n_iter=100,\n",
              "                   n_jobs=-1,\n",
              "                   param_distributions={&#x27;bootstrap&#x27;: [True, False],\n",
              "                                        &#x27;max_depth&#x27;: [10, 20, 30, 40, 50, 60,\n",
              "                                                      70, 80, 90, 100, 110,\n",
              "                                                      None],\n",
              "                                        &#x27;max_features&#x27;: [&#x27;auto&#x27;, &#x27;log2&#x27;],\n",
              "                                        &#x27;min_samples_leaf&#x27;: [1, 2, 4],\n",
              "                                        &#x27;min_samples_split&#x27;: [2, 5, 10],\n",
              "                                        &#x27;n_estimators&#x27;: [200, 400, 600, 800,\n",
              "                                                         1000, 1200, 1400, 1600,\n",
              "                                                         1800, 2000]},\n",
              "                   random_state=42, verbose=2)</pre><b>In a Jupyter environment, please rerun this cell to show the HTML representation or trust the notebook. <br />On GitHub, the HTML representation is unable to render, please try loading this page with nbviewer.org.</b></div><div class=\"sk-container\" hidden><div class=\"sk-item sk-dashed-wrapped\"><div class=\"sk-label-container\"><div class=\"sk-label sk-toggleable\"><input class=\"sk-toggleable__control sk-hidden--visually\" id=\"sk-estimator-id-14\" type=\"checkbox\" ><label for=\"sk-estimator-id-14\" class=\"sk-toggleable__label sk-toggleable__label-arrow\">RandomizedSearchCV</label><div class=\"sk-toggleable__content\"><pre>RandomizedSearchCV(cv=3, estimator=RandomForestRegressor(), n_iter=100,\n",
              "                   n_jobs=-1,\n",
              "                   param_distributions={&#x27;bootstrap&#x27;: [True, False],\n",
              "                                        &#x27;max_depth&#x27;: [10, 20, 30, 40, 50, 60,\n",
              "                                                      70, 80, 90, 100, 110,\n",
              "                                                      None],\n",
              "                                        &#x27;max_features&#x27;: [&#x27;auto&#x27;, &#x27;log2&#x27;],\n",
              "                                        &#x27;min_samples_leaf&#x27;: [1, 2, 4],\n",
              "                                        &#x27;min_samples_split&#x27;: [2, 5, 10],\n",
              "                                        &#x27;n_estimators&#x27;: [200, 400, 600, 800,\n",
              "                                                         1000, 1200, 1400, 1600,\n",
              "                                                         1800, 2000]},\n",
              "                   random_state=42, verbose=2)</pre></div></div></div><div class=\"sk-parallel\"><div class=\"sk-parallel-item\"><div class=\"sk-item\"><div class=\"sk-label-container\"><div class=\"sk-label sk-toggleable\"><input class=\"sk-toggleable__control sk-hidden--visually\" id=\"sk-estimator-id-15\" type=\"checkbox\" ><label for=\"sk-estimator-id-15\" class=\"sk-toggleable__label sk-toggleable__label-arrow\">estimator: RandomForestRegressor</label><div class=\"sk-toggleable__content\"><pre>RandomForestRegressor()</pre></div></div></div><div class=\"sk-serial\"><div class=\"sk-item\"><div class=\"sk-estimator sk-toggleable\"><input class=\"sk-toggleable__control sk-hidden--visually\" id=\"sk-estimator-id-16\" type=\"checkbox\" ><label for=\"sk-estimator-id-16\" class=\"sk-toggleable__label sk-toggleable__label-arrow\">RandomForestRegressor</label><div class=\"sk-toggleable__content\"><pre>RandomForestRegressor()</pre></div></div></div></div></div></div></div></div></div></div>"
            ]
          },
          "metadata": {},
          "execution_count": 39
        }
      ],
      "source": [
        "rnd_reg_imp = RandomForestRegressor()\n",
        "rnd_search_imp = RandomizedSearchCV(estimator = rnd_reg_imp, param_distributions=random_grid,\n",
        "                               n_iter = 100, cv=3, verbose=2, random_state=42, n_jobs=-1)\n",
        "rnd_search_imp.fit(X_important_train, y_train)"
      ]
    },
    {
      "cell_type": "code",
      "execution_count": null,
      "metadata": {
        "id": "0b2pBbvCKXnb"
      },
      "outputs": [],
      "source": [
        "# test rmse\n",
        "best_model_imp = rnd_search_imp.best_estimator_\n",
        "val_pred_imp = best_model_imp.predict(X_important_val)\n",
        "val_mse_imp = mean_squared_error(y_val, val_pred_imp)\n",
        "val_rmse_imp = np.sqrt(val_mse_imp)\n",
        "val_rmse_imp"
      ]
    },
    {
      "cell_type": "code",
      "execution_count": null,
      "metadata": {
        "id": "WbsVh1GyKXnc"
      },
      "outputs": [],
      "source": [
        "# train rmse\n",
        "train_mse_imp = mean_squared_error(y_train, best_model_imp.predict(X_important_train))\n",
        "train_rmse_imp = np.sqrt(train_mse_imp)\n",
        "train_rmse_imp"
      ]
    },
    {
      "cell_type": "code",
      "execution_count": null,
      "metadata": {
        "id": "7AMb002ZKXnc"
      },
      "outputs": [],
      "source": [
        "np.mean(val_pred_imp)"
      ]
    },
    {
      "cell_type": "code",
      "execution_count": null,
      "metadata": {
        "id": "Nz5EC_MTKXnc"
      },
      "outputs": [],
      "source": [
        "#plt.scatter(best_model_imp.predict(X_important_train), y_train, color='blue')\n",
        "plt.plot(best_model_imp.predict(X_important_train), y_train, 'o')\n",
        "m, b = np.polyfit(best_model_imp.predict(X_important_train), y_train, 1)\n",
        "plt.plot(best_model_imp.predict(X_important_train), m*best_model_imp.predict(X_important_train) + b)\n",
        "plt.title(\"Actual vs Prediction (Training set)\")\n",
        "plt.xlabel(\"Prediction\")\n",
        "plt.ylabel(\"Actual\")\n",
        "plt.show()"
      ]
    },
    {
      "cell_type": "code",
      "execution_count": null,
      "metadata": {
        "id": "e8dDigExKXnd"
      },
      "outputs": [],
      "source": [
        "plot_data1 = {'actuals': y_train, 'predictions': best_model_imp.predict(X_important_train)}\n",
        "plot_data = pd.DataFrame(plot_data1)"
      ]
    },
    {
      "cell_type": "code",
      "execution_count": null,
      "metadata": {
        "id": "9zOjY_YtKXne"
      },
      "outputs": [],
      "source": [
        "fig = (\n",
        "    ggplot(plot_data) +\n",
        "    geom_point(\n",
        "        aes(x = 'predictions',\n",
        "            y = 'actuals'),\n",
        "        alpha = 0.5,\n",
        "        color = 'brown'\n",
        "    ) +\n",
        "    geom_smooth(\n",
        "        aes(x = 'predictions',\n",
        "            y = 'actuals'),\n",
        "        color = 'orange',\n",
        "        size=1\n",
        "    )\n",
        ")\n",
        "fig"
      ]
    },
    {
      "cell_type": "code",
      "execution_count": null,
      "metadata": {
        "id": "kKUg6WZ4KXnf"
      },
      "outputs": [],
      "source": [
        "# final prediction on als12\n",
        "best_model_imp = rnd_search_imp.best_estimator_\n",
        "val_pred_imp = best_model_imp.predict(X_important_val)\n",
        "val_mse_imp = mean_squared_error(y_val, val_pred_imp)\n",
        "val_rmse_imp = np.sqrt(val_mse_imp)\n",
        "val_rmse_imp"
      ]
    },
    {
      "cell_type": "markdown",
      "metadata": {
        "id": "BaiyWwKvKXng"
      },
      "source": [
        "## Polynomial regression"
      ]
    },
    {
      "cell_type": "code",
      "execution_count": null,
      "metadata": {
        "id": "VzpEhZIVKXng",
        "colab": {
          "base_uri": "https://localhost:8080/",
          "height": 634
        },
        "outputId": "121d2dee-4aba-48c4-9952-4f292f1f1122"
      },
      "outputs": [
        {
          "output_type": "stream",
          "name": "stdout",
          "text": [
            "Best degree 1 with RMSE 0.08984950355337337\n"
          ]
        },
        {
          "output_type": "display_data",
          "data": {
            "text/plain": [
              "<Figure size 1200x600 with 1 Axes>"
            ],
            "image/png": "[encoded data removed]"
          },
          "metadata": {
            "image/png": {
              "width": 1200,
              "height": 600
            }
          }
        }
      ],
      "source": [
        "# Choose the best degree parameter\n",
        "rmses = []\n",
        "degrees = np.arange(1,5)\n",
        "min_rmse, min_deg = 1e10, 0\n",
        "for deg in degrees:\n",
        "    poly_features = PolynomialFeatures(degree=deg, include_bias=False)\n",
        "    X_poly_train = poly_features.fit_transform(X_train_scaled)\n",
        "\n",
        "    poly_reg = LinearRegression()\n",
        "    poly_reg.fit(X_poly_train, y_train)\n",
        "\n",
        "    X_poly_val = poly_features.fit_transform(X_val_scaled)\n",
        "    poly_predict = poly_reg.predict(X_poly_val)\n",
        "    poly_mse = mean_squared_error(y_val, poly_predict)\n",
        "    poly_rmse = np.sqrt(poly_mse)\n",
        "    rmses.append(poly_rmse)\n",
        "\n",
        "    if min_rmse > poly_rmse:\n",
        "        min_rmse = poly_rmse\n",
        "        min_deg = deg\n",
        "\n",
        "print('Best degree {} with RMSE {}'.format(min_deg, min_rmse))\n",
        "\n",
        "fig_poly = plt.figure()\n",
        "ax = fig_poly.add_subplot(111)\n",
        "ax.plot(degrees, rmses)\n",
        "ax.set_yscale('log')\n",
        "ax.set_xlabel('Degree')\n",
        "ax.set_label('RMSE')"
      ]
    },
    {
      "cell_type": "code",
      "execution_count": null,
      "metadata": {
        "id": "X_8ZDBpmKXnh"
      },
      "outputs": [],
      "source": [
        "# Use the best degree and pipleline to train data\n",
        "poly_features = PolynomialFeatures(degree=1, include_bias=False)\n",
        "lin_reg = LinearRegression()\n",
        "polynomial_regression = Pipeline((\n",
        "    ('scaler', MinMaxScaler()),\n",
        "    ('poly_features', PolynomialFeatures(degree=1, include_bias=False)),\n",
        "    ('lin_reg', LinearRegression()),\n",
        "))\n",
        "\n",
        "polynomial_regression.fit(X_train, y_train)"
      ]
    },
    {
      "cell_type": "code",
      "execution_count": null,
      "metadata": {
        "id": "yBZaK5CzKXnh"
      },
      "outputs": [],
      "source": [
        "# Make predictions\n",
        "y_val_pred = polynomial_regression.predict(X_val)"
      ]
    },
    {
      "cell_type": "code",
      "execution_count": null,
      "metadata": {
        "id": "JCkj1SbVKXni"
      },
      "outputs": [],
      "source": [
        "# Evaluation on val data\n",
        "mse = mean_squared_error(y_val, y_val_pred)\n",
        "rmse = np.sqrt(mse)\n",
        "print(rmse)"
      ]
    },
    {
      "cell_type": "code",
      "execution_count": null,
      "metadata": {
        "id": "4FN3s1jvKXni"
      },
      "outputs": [],
      "source": [
        "# Evaluation on training data\n",
        "y_train_pred = polynomial_regression.predict(X_train)\n",
        "mse_train = mean_squared_error(y_train, y_train_pred)\n",
        "rmse_train = np.sqrt(mse_train)\n",
        "print(rmse_train)"
      ]
    },
    {
      "cell_type": "code",
      "execution_count": null,
      "metadata": {
        "id": "1a99z29NKXnj"
      },
      "outputs": [],
      "source": [
        "# Plot prediction v.s. actual\n",
        "plt.plot(polynomial_regression.predict(X_val), y_val, 'o')\n",
        "m, b = np.polyfit(polynomial_regression.predict(X_val), y_val, 1)\n",
        "plt.plot(polynomial_regression.predict(X_val), m*polynomial_regression.predict(X_val) + b)\n",
        "plt.title(\"Actual vs Prediction (Val set)\")\n",
        "plt.xlabel(\"Prediction\")\n",
        "plt.ylabel(\"Actual\")\n",
        "plt.show()"
      ]
    },
    {
      "cell_type": "code",
      "execution_count": null,
      "metadata": {
        "id": "WrqU4qe5KXnj"
      },
      "outputs": [],
      "source": [
        "# Predict final als_12\n",
        "als12_pred = polynomial_regression.predict(X_als12)\n",
        "mse12 = mean_squared_error(y_als12, als12_pred)\n",
        "rmse12 = np.sqrt(mse12)\n",
        "print(rmse12)"
      ]
    },
    {
      "cell_type": "markdown",
      "metadata": {
        "id": "xCgApo1KKXnk"
      },
      "source": [
        "## XGBoost"
      ]
    },
    {
      "cell_type": "code",
      "execution_count": null,
      "metadata": {
        "id": "5vrUqmLbKXnk"
      },
      "outputs": [],
      "source": [
        "import scipy.stats as st\n",
        "from collections.abc import Mapping\n",
        "one_to_left = st.beta(10, 1)\n",
        "from_zero_positive = st.expon(0, 50)\n",
        "\n",
        "params = {\n",
        "    \"n_estimators\": [int(x) for x in np.linspace(start = 200, stop = 2000, num = 10)],\n",
        "    \"max_depth\": [int(x) for x in np.linspace(10, 110, num = 11)],\n",
        "    \"learning_rate\": st.uniform(0.05, 0.4),\n",
        "    \"colsample_bytree\": one_to_left,\n",
        "    \"subsample\": one_to_left,\n",
        "    \"gamma\": st.uniform(0, 10),\n",
        "    'reg_alpha': from_zero_positive,\n",
        "    \"min_child_weight\": from_zero_positive,\n",
        "}\n",
        "\n",
        "xgb_reg = XGBRegressor(nthreads=-1)"
      ]
    },
    {
      "cell_type": "code",
      "execution_count": null,
      "metadata": {
        "id": "6-NAx7_EKXnl"
      },
      "outputs": [],
      "source": [
        "xgb_reg = RandomizedSearchCV(xgb_reg, params, n_jobs=-1)\n",
        "xgb_reg.fit(X_train_scaled, y_train)"
      ]
    },
    {
      "cell_type": "code",
      "execution_count": null,
      "metadata": {
        "id": "2D5Dq_fQKXnl"
      },
      "outputs": [],
      "source": [
        "print(xgb_rs.best_params_)"
      ]
    },
    {
      "cell_type": "code",
      "execution_count": null,
      "metadata": {
        "id": "we93qemiKXnl"
      },
      "outputs": [],
      "source": [
        "best_xgb = xgb_rs.best_estimator_\n",
        "y_val_pred = best_xgb.predict(X_val_scaled)\n",
        "mse_xgb = mean_squared_error(y_val, y_val_pred)\n",
        "rmse_xgb = np.sqrt(mse_xgb)\n",
        "print(rmse_xgb)"
      ]
    },
    {
      "cell_type": "code",
      "execution_count": null,
      "metadata": {
        "id": "YzZEnUU6KXnm"
      },
      "outputs": [],
      "source": [
        "## pipeline of gxboost\n",
        "## final als12 prediction\n",
        "# pipeline for random forest\n",
        "best_xgb = xgb_rs.best_estimator_\n",
        "xgb_pipeline = Pipeline((\n",
        "    ('scaler', MinMaxScaler()),\n",
        "    ('pca', PCA(n_components=0.95)),\n",
        "    ('xgb_reg', best_xgb),\n",
        "))\n",
        "\n",
        "xgb_pipeline.fit(X_train, y_train)\n",
        "\n",
        "y_val_pred = xgb_pipeline.predict(X_val)\n",
        "mse_xgb = mean_squared_error(y_val, y_val_pred)\n",
        "rmse_xgb = np.sqrt(mse_xgb)\n",
        "print(rmse_xgb)"
      ]
    },
    {
      "cell_type": "code",
      "execution_count": null,
      "metadata": {
        "id": "ZWF4GZeWKXnm"
      },
      "outputs": [],
      "source": []
    }
  ],
  "metadata": {
    "accelerator": "GPU",
    "colab": {
      "gpuType": "T4",
      "provenance": [],
      "include_colab_link": true
    },
    "kernelspec": {
      "display_name": "Python 3",
      "name": "python3"
    },
    "language_info": {
      "codemirror_mode": {
        "name": "ipython",
        "version": 3
      },
      "file_extension": ".py",
      "mimetype": "text/x-python",
      "name": "python",
      "nbconvert_exporter": "python",
      "pygments_lexer": "ipython3",
      "version": "3.7.2"
    }
  },
  "nbformat": 4,
  "nbformat_minor": 0
}